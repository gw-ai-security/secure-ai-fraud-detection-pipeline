{
 "cells": [
  {
   "cell_type": "markdown",
   "id": "7195e836",
   "metadata": {},
   "source": [
    "# 02 – Feature Engineering (Fraud Detection)\n",
    "**Projekt:** Secure AI Fraud Detection Pipeline  \n",
    "**Zweck:** Robuste Feature-Pipeline für Fraud-Detection mit Privacy-by-Design-Grundsätzen.\n",
    "\n",
    "**Output dieses Notebooks**\n",
    "- Zeit-, Betrag-, Frequenz- und Kontext-Features\n",
    "- Scaler/Encoder-Pipeline (`models/feature_pipeline.pkl`)\n",
    "- Feature-Namen (`models/feature_names.json`)\n",
    "- Vorverarbeitete Daten (`data/processed/features.parquet`)\n",
    "- Konfig (`models/feature_config.json`)\n",
    "\n",
    "> Hinweise:  \n",
    "> - Das Notebook nutzt `data/processed/fraud_cleaned.csv` (falls vorhanden) oder `data/raw/fraud_simulated.csv`.  \n",
    "> - Wenn beides fehlt, wird ein **synthetischer Demo-Datensatz** erzeugt (für reproduzierbare Läufe)."
   ]
  }
 ],
 "metadata": {
  "kernelspec": {
   "display_name": "Python [conda env:base] *",
   "language": "python",
   "name": "conda-base-py"
  },
  "language_info": {
   "codemirror_mode": {
    "name": "ipython",
    "version": 3
   },
   "file_extension": ".py",
   "mimetype": "text/x-python",
   "name": "python",
   "nbconvert_exporter": "python",
   "pygments_lexer": "ipython3",
   "version": "3.13.5"
  }
 },
 "nbformat": 4,
 "nbformat_minor": 5
}
