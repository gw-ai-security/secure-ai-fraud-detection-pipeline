{
 "cells": [
  {
   "cell_type": "markdown",
   "id": "7195e836",
   "metadata": {},
   "source": [
    "# 02 – Feature Engineering (Fraud Detection)\n",
    "\n",
    "**Projekt:** Secure AI Fraud Detection Pipeline  \n",
    "**Zweck:** Robuste Feature-Pipeline für Fraud-Detection mit Privacy-by-Design-Grundsätzen.\n",
    "\n",
    "**Output dieses Notebooks**\n",
    "- Zeit-, Betrag-, Frequenz- und Kontext-Features\n",
    "- Scaler/Encoder-Pipeline (`models/feature_pipeline.pkl`)\n",
    "- Feature-Namen (`models/feature_names.json`)\n",
    "- Vorverarbeitete Daten (`data/processed/features.parquet`)\n",
    "- Konfig (`models/feature_config.json`)\n",
    "\n",
    "> Hinweise:  \n",
    "> - Das Notebook nutzt `data/processed/fraud_cleaned.csv` (falls vorhanden) oder `data/raw/fraud_simulated.csv`.  \n",
    "> - Wenn beides fehlt, wird ein **synthetischer Demo-Datensatz** erzeugt (für reproduzierbare Läufe).\n"
   ]
  },
  {
   "cell_type": "markdown",
   "id": "f20189fa-2dd9-4284-aa87-879198f064d0",
   "metadata": {},
   "source": [
    "## Block 2 – Imports & Projektpfade\n"
   ]
  },
  {
   "cell_type": "code",
   "execution_count": 10,
   "id": "bdf5bb61-a841-451d-952a-6287d38dc983",
   "metadata": {
    "scrolled": true
   },
   "outputs": [
    {
     "name": "stdout",
     "output_type": "stream",
     "text": [
      "PROJECT_ROOT = C:\\Users\\admin\\Desktop\\AI Sec Project\\GitHub\\secure-ai-fraud-detection-pipeline\\notebooks\n"
     ]
    }
   ],
   "source": [
    "# Imports und Pfade\n",
    "import os, json, warnings, joblib\n",
    "import pandas as pd\n",
    "import numpy as np\n",
    "from pathlib import Path\n",
    "from datetime import datetime, timedelta\n",
    "\n",
    "from sklearn.preprocessing import OneHotEncoder, RobustScaler\n",
    "from sklearn.compose import ColumnTransformer\n",
    "from sklearn.pipeline import Pipeline\n",
    "from sklearn.model_selection import train_test_split\n",
    "\n",
    "warnings.filterwarnings(\"ignore\")\n",
    "\n",
    "# Robust: wenn Notebook in /notebooks liegt, gehe eine Ebene hoch\n",
    "cwd = Path.cwd()\n",
    "PROJECT_ROOT = cwd if (cwd / \"data\").exists() else (cwd.parent if cwd.name == \"notebooks\" else cwd)\n",
    "\n",
    "DATA_PROCESSED = PROJECT_ROOT / \"data\" / \"processed\"\n",
    "DATA_RAW = PROJECT_ROOT / \"data\" / \"raw\"\n",
    "MODELS = PROJECT_ROOT / \"models\"\n",
    "\n",
    "DATA_PROCESSED.mkdir(parents=True, exist_ok=True)\n",
    "DATA_RAW.mkdir(parents=True, exist_ok=True)\n",
    "MODELS.mkdir(parents=True, exist_ok=True)\n",
    "\n",
    "CLEAN_PATH = DATA_PROCESSED / \"fraud_cleaned.csv\"\n",
    "RAW_PATH = DATA_RAW / \"fraud_simulated.csv\"\n",
    "\n",
    "print(f\"PROJECT_ROOT = {PROJECT_ROOT}\")\n"
   ]
  },
  {
   "cell_type": "markdown",
   "id": "e8b912d1-169e-44e3-965e-11a06aff115f",
   "metadata": {},
   "source": [
    "## Block 2a – Diagnose & Root-Fix (wenn CSV-Dateien „nicht gefunden“ werden)\n"
   ]
  },
  {
   "cell_type": "code",
   "execution_count": null,
   "id": "b9419c35-3e39-4bcd-afeb-d411a6a99910",
   "metadata": {},
   "outputs": [],
   "source": []
  },
  {
   "cell_type": "markdown",
   "id": "f367f37d-193b-4737-b90b-c6f5e352e45b",
   "metadata": {},
   "source": [
    "## Block 3 – Daten laden (mit Fallback & synthetischem Demo-Datensatz)\n"
   ]
  },
  {
   "cell_type": "code",
   "execution_count": 13,
   "id": "3eb8d3e2-4212-4d3c-8e5b-8d47cb81e094",
   "metadata": {},
   "outputs": [
    {
     "name": "stdout",
     "output_type": "stream",
     "text": [
      "Weder cleaned noch raw gefunden – generiere synthetischen Demo-Datensatz…\n",
      "            timestamp  amount  user_id country channel merchant_category  \\\n",
      "0 2024-01-03 16:15:00   61.34     1508      US     app            gaming   \n",
      "1 2024-01-24 05:14:00  143.48     1504      DE     web           grocery   \n",
      "2 2024-01-20 15:17:00   53.35     1993      DE     app           grocery   \n",
      "3 2024-01-14 03:59:00  123.37     1599      GB     pos            travel   \n",
      "4 2024-01-13 23:46:00   59.54     1597      DE     web            gaming   \n",
      "\n",
      "   is_fraud  \n",
      "0         0  \n",
      "1         0  \n",
      "2         0  \n",
      "3         0  \n",
      "4         0  \n",
      "timestamp            datetime64[ns]\n",
      "amount                      float64\n",
      "user_id                       int64\n",
      "country                      object\n",
      "channel                      object\n",
      "merchant_category            object\n",
      "is_fraud                      int64\n",
      "dtype: object\n"
     ]
    }
   ],
   "source": [
    "def _generate_synthetic(n=5000, seed=42):\n",
    "    rng = np.random.default_rng(seed)\n",
    "    start = datetime(2024, 1, 1)\n",
    "    ts = [start + timedelta(minutes=int(x)) for x in rng.integers(0, 60*24*30, size=n)]\n",
    "    amount = np.round(rng.gamma(shape=2.0, scale=50.0, size=n), 2)\n",
    "    user_id = rng.integers(1000, 2000, size=n)\n",
    "    country = rng.choice(\n",
    "        [\"DE\",\"AT\",\"CH\",\"FR\",\"IT\",\"ES\",\"NL\",\"PL\",\"US\",\"GB\"],\n",
    "        size=n,\n",
    "        p=[.22,.08,.05,.12,.08,.08,.08,.09,.1,.1]\n",
    "    )\n",
    "    channel = rng.choice([\"app\",\"web\",\"pos\"], size=n, p=[.4,.4,.2])\n",
    "    merchant_category = rng.choice([\"grocery\",\"electronics\",\"travel\",\"gaming\",\"fashion\",\"other\"], size=n)\n",
    "\n",
    "    # Fraud-Label simulieren\n",
    "    fraud = (\n",
    "        (rng.random(size=n) < (\n",
    "            0.02 \n",
    "            + 0.03*(np.isin(country, [\"US\",\"GB\"])) \n",
    "            + 0.02*(channel == \"web\") \n",
    "            + 0.04*(merchant_category == \"gaming\")\n",
    "            + 0.03*(amount > 300)\n",
    "        ))\n",
    "    ).astype(int)\n",
    "\n",
    "    df = pd.DataFrame({\n",
    "        \"timestamp\": ts,\n",
    "        \"amount\": amount,\n",
    "        \"user_id\": user_id,\n",
    "        \"country\": country,\n",
    "        \"channel\": channel,\n",
    "        \"merchant_category\": merchant_category,\n",
    "        \"is_fraud\": fraud,\n",
    "    })\n",
    "    RAW_PATH.parent.mkdir(parents=True, exist_ok=True)\n",
    "    df.to_csv(RAW_PATH, index=False)\n",
    "    return df\n",
    "\n",
    "\n",
    "def load_data():\n",
    "    if CLEAN_PATH.exists():\n",
    "        path = CLEAN_PATH\n",
    "    elif RAW_PATH.exists():\n",
    "        path = RAW_PATH\n",
    "    else:\n",
    "        print(\"Weder cleaned noch raw gefunden – generiere synthetischen Demo-Datensatz…\")\n",
    "        return _generate_synthetic()\n",
    "    print(f\"Lade Daten aus: {path}\")\n",
    "    return pd.read_csv(path)\n",
    "\n",
    "\n",
    "df = load_data()\n",
    "\n",
    "# Timestamp konvertieren\n",
    "if \"timestamp\" in df.columns:\n",
    "    try:\n",
    "        df[\"timestamp\"] = pd.to_datetime(df[\"timestamp\"], errors=\"coerce\", utc=False)\n",
    "    except Exception:\n",
    "        pass\n",
    "\n",
    "print(df.head())\n",
    "print(df.dtypes)\n"
   ]
  },
  {
   "cell_type": "code",
   "execution_count": null,
   "id": "065c02ba-d905-4c23-959c-013dac2807bb",
   "metadata": {},
   "outputs": [],
   "source": []
  }
 ],
 "metadata": {
  "kernelspec": {
   "display_name": "Python [conda env:base] *",
   "language": "python",
   "name": "conda-base-py"
  },
  "language_info": {
   "codemirror_mode": {
    "name": "ipython",
    "version": 3
   },
   "file_extension": ".py",
   "mimetype": "text/x-python",
   "name": "python",
   "nbconvert_exporter": "python",
   "pygments_lexer": "ipython3",
   "version": "3.13.5"
  }
 },
 "nbformat": 4,
 "nbformat_minor": 5
}
