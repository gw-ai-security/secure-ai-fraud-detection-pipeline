{
 "cells": [
  {
   "cell_type": "code",
   "execution_count": 1,
   "id": "f510d07c-88ad-40ee-a94a-3f3fbfae0d50",
   "metadata": {},
   "outputs": [],
   "source": [
    "# Core Libraries\n",
    "import pandas as pd\n",
    "import numpy as np\n",
    "import matplotlib.pyplot as plt\n",
    "import seaborn as sns\n",
    "\n",
    "# Display settings (for Jupyter)\n",
    "pd.set_option('display.max_columns', None)\n",
    "sns.set(style=\"whitegrid\")\n",
    "\n",
    "# File Paths (adjust if needed)\n",
    "RAW_DATA_PATH = \"../data/raw/fraud_simulated.csv\"\n",
    "PROCESSED_DATA_PATH = \"../data/processed/fraud_cleaned.csv\"\n"
   ]
  },
  {
   "cell_type": "code",
   "execution_count": 2,
   "id": "9ebeed55-db4b-458d-a10a-c11ccd8d652d",
   "metadata": {},
   "outputs": [
    {
     "name": "stdout",
     "output_type": "stream",
     "text": [
      "Preview of raw data:\n"
     ]
    },
    {
     "data": {
      "text/html": [
       "<div>\n",
       "<style scoped>\n",
       "    .dataframe tbody tr th:only-of-type {\n",
       "        vertical-align: middle;\n",
       "    }\n",
       "\n",
       "    .dataframe tbody tr th {\n",
       "        vertical-align: top;\n",
       "    }\n",
       "\n",
       "    .dataframe thead th {\n",
       "        text-align: right;\n",
       "    }\n",
       "</style>\n",
       "<table border=\"1\" class=\"dataframe\">\n",
       "  <thead>\n",
       "    <tr style=\"text-align: right;\">\n",
       "      <th></th>\n",
       "      <th>timestamp</th>\n",
       "      <th>user_id</th>\n",
       "      <th>amount</th>\n",
       "      <th>country</th>\n",
       "      <th>event_type</th>\n",
       "    </tr>\n",
       "  </thead>\n",
       "  <tbody>\n",
       "    <tr>\n",
       "      <th>0</th>\n",
       "      <td>2025-07-24 10:15:00</td>\n",
       "      <td>USER123</td>\n",
       "      <td>199.5</td>\n",
       "      <td>DE</td>\n",
       "      <td>login</td>\n",
       "    </tr>\n",
       "  </tbody>\n",
       "</table>\n",
       "</div>"
      ],
      "text/plain": [
       "             timestamp  user_id  amount country event_type\n",
       "0  2025-07-24 10:15:00  USER123   199.5      DE      login"
      ]
     },
     "metadata": {},
     "output_type": "display_data"
    },
    {
     "name": "stdout",
     "output_type": "stream",
     "text": [
      "\n",
      "Data types and null values:\n",
      "<class 'pandas.core.frame.DataFrame'>\n",
      "RangeIndex: 1 entries, 0 to 0\n",
      "Data columns (total 5 columns):\n",
      " #   Column      Non-Null Count  Dtype  \n",
      "---  ------      --------------  -----  \n",
      " 0   timestamp   1 non-null      object \n",
      " 1   user_id     1 non-null      object \n",
      " 2   amount      1 non-null      float64\n",
      " 3   country     1 non-null      object \n",
      " 4   event_type  1 non-null      object \n",
      "dtypes: float64(1), object(4)\n",
      "memory usage: 172.0+ bytes\n",
      "None\n",
      "timestamp     0\n",
      "user_id       0\n",
      "amount        0\n",
      "country       0\n",
      "event_type    0\n",
      "dtype: int64\n"
     ]
    }
   ],
   "source": [
    "# 2. Load and Inspect Raw Data\n",
    "\n",
    "# Load CSV file\n",
    "df_raw = pd.read_csv(RAW_DATA_PATH)\n",
    "\n",
    "# Show first few rows\n",
    "print(\"Preview of raw data:\")\n",
    "display(df_raw.head())\n",
    "\n",
    "# Check structure and types\n",
    "print(\"\\nData types and null values:\")\n",
    "print(df_raw.info())\n",
    "print(df_raw.isnull().sum())\n"
   ]
  },
  {
   "cell_type": "code",
   "execution_count": 3,
   "id": "0d767540-cb73-4ebb-b1ac-f88de0890966",
   "metadata": {},
   "outputs": [
    {
     "name": "stdout",
     "output_type": "stream",
     "text": [
      "Remaining rows after cleaning: 1\n"
     ]
    }
   ],
   "source": [
    "# 3. Handle Missing or Invalid Values\n",
    "\n",
    "# Clean whitespace, NaN strings, empty strings\n",
    "df_cleaned = df_raw.copy()\n",
    "\n",
    "# Strip string columns\n",
    "str_cols = ['user_id', 'country', 'event_type']\n",
    "for col in str_cols:\n",
    "    df_cleaned[col] = df_cleaned[col].astype(str).str.strip()\n",
    "    df_cleaned[col] = df_cleaned[col].replace('', np.nan)\n",
    "\n",
    "# Replace invalid amounts (e.g., negative or zero)\n",
    "df_cleaned = df_cleaned[df_cleaned[\"amount\"] > 0]\n",
    "\n",
    "# Drop rows with remaining missing critical fields\n",
    "df_cleaned = df_cleaned.dropna(subset=[\"timestamp\", \"user_id\", \"amount\"])\n",
    "\n",
    "print(\"Remaining rows after cleaning:\", len(df_cleaned))\n"
   ]
  },
  {
   "cell_type": "code",
   "execution_count": 4,
   "id": "a2ef28b4-ce3b-4953-a2d6-b104dfb5069f",
   "metadata": {},
   "outputs": [
    {
     "name": "stdout",
     "output_type": "stream",
     "text": [
      "Preview with temporal features:\n"
     ]
    },
    {
     "data": {
      "text/html": [
       "<div>\n",
       "<style scoped>\n",
       "    .dataframe tbody tr th:only-of-type {\n",
       "        vertical-align: middle;\n",
       "    }\n",
       "\n",
       "    .dataframe tbody tr th {\n",
       "        vertical-align: top;\n",
       "    }\n",
       "\n",
       "    .dataframe thead th {\n",
       "        text-align: right;\n",
       "    }\n",
       "</style>\n",
       "<table border=\"1\" class=\"dataframe\">\n",
       "  <thead>\n",
       "    <tr style=\"text-align: right;\">\n",
       "      <th></th>\n",
       "      <th>timestamp</th>\n",
       "      <th>hour</th>\n",
       "      <th>day</th>\n",
       "      <th>weekday</th>\n",
       "    </tr>\n",
       "  </thead>\n",
       "  <tbody>\n",
       "    <tr>\n",
       "      <th>0</th>\n",
       "      <td>2025-07-24 10:15:00</td>\n",
       "      <td>10</td>\n",
       "      <td>24</td>\n",
       "      <td>3</td>\n",
       "    </tr>\n",
       "  </tbody>\n",
       "</table>\n",
       "</div>"
      ],
      "text/plain": [
       "            timestamp  hour  day  weekday\n",
       "0 2025-07-24 10:15:00    10   24        3"
      ]
     },
     "metadata": {},
     "output_type": "display_data"
    }
   ],
   "source": [
    "# 4. Convert timestamp to datetime\n",
    "df_cleaned[\"timestamp\"] = pd.to_datetime(df_cleaned[\"timestamp\"], errors='coerce')\n",
    "\n",
    "# Drop rows with invalid/missing timestamps\n",
    "df_cleaned = df_cleaned.dropna(subset=[\"timestamp\"])\n",
    "\n",
    "# Extract temporal features\n",
    "df_cleaned[\"hour\"] = df_cleaned[\"timestamp\"].dt.hour\n",
    "df_cleaned[\"day\"] = df_cleaned[\"timestamp\"].dt.day\n",
    "df_cleaned[\"weekday\"] = df_cleaned[\"timestamp\"].dt.weekday  # 0 = Monday, 6 = Sunday\n",
    "\n",
    "# Optional: Visual inspection\n",
    "print(\"Preview with temporal features:\")\n",
    "display(df_cleaned[[\"timestamp\", \"hour\", \"day\", \"weekday\"]].head())\n"
   ]
  },
  {
   "cell_type": "code",
   "execution_count": 5,
   "id": "8965c73f-8a14-4181-8314-791c8a7d9fc4",
   "metadata": {},
   "outputs": [
    {
     "name": "stdout",
     "output_type": "stream",
     "text": [
      "Amount before and after scaling:\n"
     ]
    },
    {
     "data": {
      "text/html": [
       "<div>\n",
       "<style scoped>\n",
       "    .dataframe tbody tr th:only-of-type {\n",
       "        vertical-align: middle;\n",
       "    }\n",
       "\n",
       "    .dataframe tbody tr th {\n",
       "        vertical-align: top;\n",
       "    }\n",
       "\n",
       "    .dataframe thead th {\n",
       "        text-align: right;\n",
       "    }\n",
       "</style>\n",
       "<table border=\"1\" class=\"dataframe\">\n",
       "  <thead>\n",
       "    <tr style=\"text-align: right;\">\n",
       "      <th></th>\n",
       "      <th>amount</th>\n",
       "      <th>amount_scaled</th>\n",
       "    </tr>\n",
       "  </thead>\n",
       "  <tbody>\n",
       "    <tr>\n",
       "      <th>0</th>\n",
       "      <td>199.5</td>\n",
       "      <td>0.0</td>\n",
       "    </tr>\n",
       "  </tbody>\n",
       "</table>\n",
       "</div>"
      ],
      "text/plain": [
       "   amount  amount_scaled\n",
       "0   199.5            0.0"
      ]
     },
     "metadata": {},
     "output_type": "display_data"
    }
   ],
   "source": [
    "# 5. Normalize/Scale amount for ML\n",
    "\n",
    "from sklearn.preprocessing import MinMaxScaler\n",
    "\n",
    "scaler = MinMaxScaler()\n",
    "df_cleaned[\"amount_scaled\"] = scaler.fit_transform(df_cleaned[[\"amount\"]])\n",
    "\n",
    "# Optional: Check distribution\n",
    "print(\"Amount before and after scaling:\")\n",
    "display(df_cleaned[[\"amount\", \"amount_scaled\"]].head())\n"
   ]
  },
  {
   "cell_type": "code",
   "execution_count": 6,
   "id": "b3b064d0-b0c6-4052-8c19-ba65a7679b79",
   "metadata": {},
   "outputs": [
    {
     "name": "stdout",
     "output_type": "stream",
     "text": [
      "Removed 0 duplicate rows. Remaining: 1\n"
     ]
    }
   ],
   "source": [
    "# 6. Remove Duplicate Rows (if any)\n",
    "\n",
    "initial_count = len(df_cleaned)\n",
    "df_cleaned = df_cleaned.drop_duplicates()\n",
    "final_count = len(df_cleaned)\n",
    "\n",
    "print(f\"Removed {initial_count - final_count} duplicate rows. Remaining: {final_count}\")\n"
   ]
  },
  {
   "cell_type": "code",
   "execution_count": 7,
   "id": "84f67e88-1f80-43ff-9282-bb218a78c3c1",
   "metadata": {},
   "outputs": [
    {
     "name": "stdout",
     "output_type": "stream",
     "text": [
      "Saved cleaned dataset to ../data/processed/fraud_cleaned.csv\n",
      "Final dataset shape: (1, 9)\n",
      "Columns: ['timestamp', 'user_id', 'amount', 'country', 'event_type', 'hour', 'day', 'weekday', 'amount_scaled']\n"
     ]
    }
   ],
   "source": [
    "# 7. Save Cleaned Data\n",
    "\n",
    "# Create target folder if it doesn't exist\n",
    "import os\n",
    "os.makedirs(os.path.dirname(PROCESSED_DATA_PATH), exist_ok=True)\n",
    "\n",
    "# Save cleaned data\n",
    "df_cleaned.to_csv(PROCESSED_DATA_PATH, index=False)\n",
    "\n",
    "# Optional: Logging\n",
    "print(f\"Saved cleaned dataset to {PROCESSED_DATA_PATH}\")\n",
    "print(f\"Final dataset shape: {df_cleaned.shape}\")\n",
    "print(f\"Columns: {list(df_cleaned.columns)}\")\n"
   ]
  },
  {
   "cell_type": "code",
   "execution_count": null,
   "id": "6914a91b-7e72-4a1a-850d-7856bdb2eb23",
   "metadata": {},
   "outputs": [],
   "source": []
  }
 ],
 "metadata": {
  "kernelspec": {
   "display_name": "Python [conda env:base] *",
   "language": "python",
   "name": "conda-base-py"
  },
  "language_info": {
   "codemirror_mode": {
    "name": "ipython",
    "version": 3
   },
   "file_extension": ".py",
   "mimetype": "text/x-python",
   "name": "python",
   "nbconvert_exporter": "python",
   "pygments_lexer": "ipython3",
   "version": "3.13.5"
  }
 },
 "nbformat": 4,
 "nbformat_minor": 5
}
